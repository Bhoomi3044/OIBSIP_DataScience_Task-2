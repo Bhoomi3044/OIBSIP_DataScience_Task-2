{
 "cells": [
  {
   "cell_type": "markdown",
   "id": "3b9c40d0",
   "metadata": {},
   "source": [
    "# 📉 Unemployment Analysis in India During COVID-19\n",
    "\n",
    "## 🧩 Problem Statement\n",
    "Unemployment represents the share of the labor force that is without work but is available for and seeking employment. The COVID-19 pandemic led to a surge in unemployment across India. In this project, we explore unemployment trends using real data and visualize how it affected different states and regions."
   ]
  },
  {
   "cell_type": "code",
   "execution_count": null,
   "id": "80803662",
   "metadata": {},
   "outputs": [],
   "source": [
    "# 📦 Step 1: Import Required Libraries\n",
    "import pandas as pd\n",
    "import matplotlib.pyplot as plt\n",
    "import seaborn as sns\n",
    "import plotly.express as px\n",
    "import warnings\n",
    "warnings.filterwarnings(\"ignore\")"
   ]
  },
  {
   "cell_type": "code",
   "execution_count": null,
   "id": "2f5cc61d",
   "metadata": {},
   "outputs": [],
   "source": [
    "# 📂 Step 2: Load the Dataset\n",
    "df = pd.read_csv(\"Unemployment_Rate_upto_11_2020.csv\")\n",
    "df.head()"
   ]
  },
  {
   "cell_type": "code",
   "execution_count": null,
   "id": "a24db6e6",
   "metadata": {},
   "outputs": [],
   "source": [
    "# 🧹 Step 3: Data Cleaning\n",
    "df.columns = [col.strip().replace(\" \", \"_\") for col in df.columns]\n",
    "df[\"Date\"] = pd.to_datetime(df[\"Date\"])\n",
    "df.info()"
   ]
  },
  {
   "cell_type": "code",
   "execution_count": null,
   "id": "f95931d8",
   "metadata": {},
   "outputs": [],
   "source": [
    "# 📊 Step 4: Unemployment Trend Over Time\n",
    "plt.figure(figsize=(12, 6))\n",
    "sns.lineplot(data=df, x=\"Date\", y=\"Estimated_Unemployment_Rate_\")\n",
    "plt.title(\"Unemployment Rate Over Time in India (2020)\")\n",
    "plt.xlabel(\"Month\")\n",
    "plt.ylabel(\"Unemployment Rate (%)\")\n",
    "plt.grid(True)\n",
    "plt.show()"
   ]
  },
  {
   "cell_type": "code",
   "execution_count": null,
   "id": "ad0d0cd9",
   "metadata": {},
   "outputs": [],
   "source": [
    "# 🗺️ Step 5: Choropleth Map (State-wise Average)\n",
    "state_avg = df.groupby(\"Region\")[[\"Estimated_Unemployment_Rate_\"]].mean().reset_index()\n",
    "fig = px.choropleth(\n",
    "    state_avg,\n",
    "    locations=\"Region\",\n",
    "    locationmode=\"country names\",\n",
    "    color=\"Estimated_Unemployment_Rate_\",\n",
    "    hover_name=\"Region\",\n",
    "    color_continuous_scale=\"Reds\",\n",
    "    title=\"Average Unemployment Rate by State (2020)\"\n",
    ")\n",
    "fig.show()"
   ]
  },
  {
   "cell_type": "code",
   "execution_count": null,
   "id": "00433012",
   "metadata": {},
   "outputs": [],
   "source": [
    "# 📈 Step 6: State-wise Unemployment Over Time (Interactive)\n",
    "state = \"Bihar\"  # Change the state here for different plots\n",
    "state_data = df[df[\"Region\"] == state]\n",
    "fig = px.line(state_data, x=\"Date\", y=\"Estimated_Unemployment_Rate_\", title=f\"Unemployment Rate in {state}\")\n",
    "fig.show()"
   ]
  },
  {
   "cell_type": "markdown",
   "id": "8b10600d",
   "metadata": {},
   "source": [
    "## ✅ Conclusion\n",
    "- Unemployment spiked around **March to May 2020** due to the COVID-19 lockdown.\n",
    "- States like **Haryana, Jharkhand, and Bihar** experienced higher average unemployment rates.\n",
    "- Visualizations reveal the real economic impact of the pandemic on India's labor force.\n",
    "- Interactive tools like Plotly help provide deeper insights across time and location."
   ]
  }
 ],
 "metadata": {},
 "nbformat": 4,
 "nbformat_minor": 5
}
